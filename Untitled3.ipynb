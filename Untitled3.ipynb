{
  "nbformat": 4,
  "nbformat_minor": 0,
  "metadata": {
    "colab": {
      "name": "Untitled3.ipynb",
      "version": "0.3.2",
      "provenance": [],
      "include_colab_link": true
    },
    "kernelspec": {
      "name": "python3",
      "display_name": "Python 3"
    }
  },
  "cells": [
    {
      "cell_type": "markdown",
      "metadata": {
        "id": "view-in-github",
        "colab_type": "text"
      },
      "source": [
        "<a href=\"https://colab.research.google.com/github/camilakalil/aula-2-29-01/blob/master/Untitled3.ipynb\" target=\"_parent\"><img src=\"https://colab.research.google.com/assets/colab-badge.svg\" alt=\"Open In Colab\"/></a>"
      ]
    },
    {
      "metadata": {
        "id": "ggmuzhGrRgfG",
        "colab_type": "code",
        "colab": {
          "base_uri": "https://localhost:8080/",
          "height": 408
        },
        "outputId": "9e707eb0-c5ad-4921-9db5-1e83ad7eb1a8"
      },
      "cell_type": "code",
      "source": [
        "import requests\n",
        "texto = requests.get(\"https://bit.ly/2Cu73N6\").text\n",
        "print (texto)"
      ],
      "execution_count": 6,
      "outputs": [
        {
          "output_type": "stream",
          "text": [
            "Dear Partner,\n",
            "\n",
            "We are very excited to inform you that \n",
            "the Docker Partner Team will be hosting a \n",
            "dedicated Partner Event, right before the beginning \n",
            "of DockerCon Europe on Dec 3rd, 2018 in Barcelona. \n",
            "We are delighted to invite you! \n",
            "\n",
            "With most of our executive leaders on stage, \n",
            "we aim to deliver strong value to you by turning \n",
            "our partner strategy into reality.\n",
            "We will update you on the Docker Enterprise \n",
            "sales and technical messaging to equip you \n",
            "better addressing our numerous business opportunities \n",
            "and building further upon our successful engagement. \n",
            "\n",
            "Please save the date for the 2018 Docker Partner Day: \n",
            "December 3rd, from 12:00-17:00 in Barcelona, CCIB, \n",
            "Placa de Willy Brandt 11-14. More about the agenda \n",
            "under this link. We look forward to seeing you there. \n",
            "\n",
            "Thank you, \n",
            "Guy Martin, Director Channel and Alliances and the Docker Partner Team \n"
          ],
          "name": "stdout"
        }
      ]
    },
    {
      "metadata": {
        "id": "R58xnemAble1",
        "colab_type": "code",
        "colab": {
          "base_uri": "https://localhost:8080/",
          "height": 1734
        },
        "outputId": "81cccb9a-40f1-4376-e8a4-e58d9b9c7dfe"
      },
      "cell_type": "code",
      "source": [
        "from collections import Counter\n",
        "\n",
        "contador = Counter(palavras)\n",
        "contador\n",
        "\n"
      ],
      "execution_count": 16,
      "outputs": [
        {
          "output_type": "execute_result",
          "data": {
            "text/plain": [
              "Counter({'11-14.': 1,\n",
              "         '12:00-17:00': 1,\n",
              "         '2018': 2,\n",
              "         '3rd,': 2,\n",
              "         'Alliances': 1,\n",
              "         'Barcelona,': 1,\n",
              "         'Barcelona.': 1,\n",
              "         'Brandt': 1,\n",
              "         'CCIB,': 1,\n",
              "         'Channel': 1,\n",
              "         'Day:': 1,\n",
              "         'Dear': 1,\n",
              "         'Dec': 1,\n",
              "         'December': 1,\n",
              "         'Director': 1,\n",
              "         'Docker': 4,\n",
              "         'DockerCon': 1,\n",
              "         'Enterprise': 1,\n",
              "         'Europe': 1,\n",
              "         'Event,': 1,\n",
              "         'Guy': 1,\n",
              "         'Martin,': 1,\n",
              "         'More': 1,\n",
              "         'Partner': 4,\n",
              "         'Partner,': 1,\n",
              "         'Placa': 1,\n",
              "         'Please': 1,\n",
              "         'Team': 2,\n",
              "         'Thank': 1,\n",
              "         'We': 4,\n",
              "         'Willy': 1,\n",
              "         'With': 1,\n",
              "         'a': 1,\n",
              "         'about': 1,\n",
              "         'addressing': 1,\n",
              "         'agenda': 1,\n",
              "         'aim': 1,\n",
              "         'and': 4,\n",
              "         'are': 2,\n",
              "         'be': 1,\n",
              "         'before': 1,\n",
              "         'beginning': 1,\n",
              "         'better': 1,\n",
              "         'building': 1,\n",
              "         'business': 1,\n",
              "         'by': 1,\n",
              "         'date': 1,\n",
              "         'de': 1,\n",
              "         'dedicated': 1,\n",
              "         'delighted': 1,\n",
              "         'deliver': 1,\n",
              "         'engagement.': 1,\n",
              "         'equip': 1,\n",
              "         'excited': 1,\n",
              "         'executive': 1,\n",
              "         'for': 1,\n",
              "         'forward': 1,\n",
              "         'from': 1,\n",
              "         'further': 1,\n",
              "         'hosting': 1,\n",
              "         'in': 2,\n",
              "         'inform': 1,\n",
              "         'into': 1,\n",
              "         'invite': 1,\n",
              "         'leaders': 1,\n",
              "         'link.': 1,\n",
              "         'look': 1,\n",
              "         'messaging': 1,\n",
              "         'most': 1,\n",
              "         'numerous': 1,\n",
              "         'of': 2,\n",
              "         'on': 3,\n",
              "         'opportunities': 1,\n",
              "         'our': 4,\n",
              "         'partner': 1,\n",
              "         'reality.': 1,\n",
              "         'right': 1,\n",
              "         'sales': 1,\n",
              "         'save': 1,\n",
              "         'seeing': 1,\n",
              "         'stage,': 1,\n",
              "         'strategy': 1,\n",
              "         'strong': 1,\n",
              "         'successful': 1,\n",
              "         'technical': 1,\n",
              "         'that': 1,\n",
              "         'the': 7,\n",
              "         'there.': 1,\n",
              "         'this': 1,\n",
              "         'to': 6,\n",
              "         'turning': 1,\n",
              "         'under': 1,\n",
              "         'update': 1,\n",
              "         'upon': 1,\n",
              "         'value': 1,\n",
              "         'very': 1,\n",
              "         'we': 1,\n",
              "         'will': 2,\n",
              "         'you': 5,\n",
              "         'you!': 1,\n",
              "         'you,': 1})"
            ]
          },
          "metadata": {
            "tags": []
          },
          "execution_count": 16
        }
      ]
    },
    {
      "metadata": {
        "id": "JEQvbRapevNb",
        "colab_type": "code",
        "colab": {
          "base_uri": "https://localhost:8080/",
          "height": 34
        },
        "outputId": "4d5d7396-1d18-4687-d089-f087ce15cf8f"
      },
      "cell_type": "code",
      "source": [
        "def quadrado(x):\n",
        "    return x * x\n",
        "\n",
        "quadrado(5)"
      ],
      "execution_count": 26,
      "outputs": [
        {
          "output_type": "execute_result",
          "data": {
            "text/plain": [
              "25"
            ]
          },
          "metadata": {
            "tags": []
          },
          "execution_count": 26
        }
      ]
    },
    {
      "metadata": {
        "id": "JPLDvl8-g-sm",
        "colab_type": "code",
        "colab": {
          "base_uri": "https://localhost:8080/",
          "height": 34
        },
        "outputId": "de215bbf-db8e-4b4d-d5a0-c7c0e2887934"
      },
      "cell_type": "code",
      "source": [
        "import re\n",
        "\n",
        "def cont_vog(str):\n",
        "  vogais =['a','e','i', 'o', 'u']\n",
        "  if str.lower() in vogais:\n",
        "        return True\n",
        "        vogais.count('a','e','i','o','u')\n",
        "  else:\n",
        "        return False\n",
        "      \n",
        "from collections import Counter\n",
        "\n",
        "def vogais(string):\n",
        "    return Counter(re.sub('[^aeiouAEIOU]', '', string))\n",
        "  \n",
        "print()"
      ],
      "execution_count": 25,
      "outputs": [
        {
          "output_type": "stream",
          "text": [
            "\n"
          ],
          "name": "stdout"
        }
      ]
    }
  ]
}