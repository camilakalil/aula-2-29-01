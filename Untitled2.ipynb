{
  "nbformat": 4,
  "nbformat_minor": 0,
  "metadata": {
    "colab": {
      "name": "Untitled2.ipynb",
      "version": "0.3.2",
      "provenance": [],
      "include_colab_link": true
    },
    "kernelspec": {
      "name": "python3",
      "display_name": "Python 3"
    }
  },
  "cells": [
    {
      "cell_type": "markdown",
      "metadata": {
        "id": "view-in-github",
        "colab_type": "text"
      },
      "source": [
        "<a href=\"https://colab.research.google.com/github/camilakalil/aula-2-29-01/blob/master/Untitled2.ipynb\" target=\"_parent\"><img src=\"https://colab.research.google.com/assets/colab-badge.svg\" alt=\"Open In Colab\"/></a>"
      ]
    },
    {
      "metadata": {
        "id": "TSqmeiXLOtX0",
        "colab_type": "code",
        "colab": {
          "base_uri": "https://localhost:8080/",
          "height": 34
        },
        "outputId": "dcb007e1-96db-4317-8af3-319300e3b02e"
      },
      "cell_type": "code",
      "source": [
        "lista = [2,3,10,20]\n",
        "sum(lista)\n",
        "#somatorio"
      ],
      "execution_count": 2,
      "outputs": [
        {
          "output_type": "execute_result",
          "data": {
            "text/plain": [
              "35"
            ]
          },
          "metadata": {
            "tags": []
          },
          "execution_count": 2
        }
      ]
    },
    {
      "metadata": {
        "id": "XC7UpAa1Rsaz",
        "colab_type": "code",
        "colab": {
          "base_uri": "https://localhost:8080/",
          "height": 34
        },
        "outputId": "4f54cb78-1fe0-4b66-bcf0-e9a287510b10"
      },
      "cell_type": "code",
      "source": [
        "10 in lista\n",
        "#encontrar na lista "
      ],
      "execution_count": 4,
      "outputs": [
        {
          "output_type": "execute_result",
          "data": {
            "text/plain": [
              "True"
            ]
          },
          "metadata": {
            "tags": []
          },
          "execution_count": 4
        }
      ]
    },
    {
      "metadata": {
        "id": "5qG1H-cVSD0T",
        "colab_type": "code",
        "colab": {
          "base_uri": "https://localhost:8080/",
          "height": 34
        },
        "outputId": "2ced70be-4469-4385-af2b-14ac9a55aa67"
      },
      "cell_type": "code",
      "source": [
        "15 in lista\n",
        "#encontrar"
      ],
      "execution_count": 5,
      "outputs": [
        {
          "output_type": "execute_result",
          "data": {
            "text/plain": [
              "False"
            ]
          },
          "metadata": {
            "tags": []
          },
          "execution_count": 5
        }
      ]
    },
    {
      "metadata": {
        "id": "Nzc-I16TSIFT",
        "colab_type": "code",
        "colab": {
          "base_uri": "https://localhost:8080/",
          "height": 34
        },
        "outputId": "71c90e13-120b-41b1-8a80-b91fb887d16a"
      },
      "cell_type": "code",
      "source": [
        "achei10 = 10 in lista\n",
        "\n",
        "if (achei10):\n",
        "  print (\"Encontrei o 10\")\n",
        "  \n",
        "#colocando na memoria e escrevendo que encontrei"
      ],
      "execution_count": 6,
      "outputs": [
        {
          "output_type": "stream",
          "text": [
            "Encontrei o 10\n"
          ],
          "name": "stdout"
        }
      ]
    },
    {
      "metadata": {
        "id": "bjrDe7YwSh0C",
        "colab_type": "code",
        "colab": {}
      },
      "cell_type": "code",
      "source": [
        "achei10 = 0 in lista\n",
        "\n",
        "if (achei10):\n",
        "  print (\"Encontrei o 10\")\n",
        "  \n",
        "#colocando na memoria e escrevendo que encontrei"
      ],
      "execution_count": 0,
      "outputs": []
    },
    {
      "metadata": {
        "id": "uyY8NfXfSmwL",
        "colab_type": "code",
        "colab": {
          "base_uri": "https://localhost:8080/",
          "height": 34
        },
        "outputId": "abe3f4f3-73a9-4f6c-f8ce-29573b7863ec"
      },
      "cell_type": "code",
      "source": [
        "achei10 = 0 in lista\n",
        "\n",
        "if (achei10):\n",
        "  print (\"Encontrei o 10\")\n",
        "else:\n",
        "  print (\"Não encontrei o 10\")\n",
        "  \n",
        "#procurando, caso nao encontre\n",
        "  \n",
        "#colocando na memoria e escrevendo que encontrei"
      ],
      "execution_count": 9,
      "outputs": [
        {
          "output_type": "stream",
          "text": [
            "Não encontrei o 10\n"
          ],
          "name": "stdout"
        }
      ]
    },
    {
      "metadata": {
        "id": "2LX5fzMvSxmr",
        "colab_type": "code",
        "colab": {
          "base_uri": "https://localhost:8080/",
          "height": 34
        },
        "outputId": "fedaa3e7-6653-4526-bbc2-37c7b74a8161"
      },
      "cell_type": "code",
      "source": [
        "lista.index(10)\n",
        "#quando sei a posição e o valor"
      ],
      "execution_count": 11,
      "outputs": [
        {
          "output_type": "execute_result",
          "data": {
            "text/plain": [
              "2"
            ]
          },
          "metadata": {
            "tags": []
          },
          "execution_count": 11
        }
      ]
    },
    {
      "metadata": {
        "id": "tBabvCqGTCi6",
        "colab_type": "code",
        "colab": {
          "base_uri": "https://localhost:8080/",
          "height": 180
        },
        "outputId": "ac93cb87-6ae8-49c1-fe8e-f3009ed6535d"
      },
      "cell_type": "code",
      "source": [
        "lista.index(0)\n",
        "#o elemento não existe na lista, por isso dá erro."
      ],
      "execution_count": 13,
      "outputs": [
        {
          "output_type": "error",
          "ename": "ValueError",
          "evalue": "ignored",
          "traceback": [
            "\u001b[0;31m---------------------------------------------------------------------------\u001b[0m",
            "\u001b[0;31mValueError\u001b[0m                                Traceback (most recent call last)",
            "\u001b[0;32m<ipython-input-13-35dcc82c4fa4>\u001b[0m in \u001b[0;36m<module>\u001b[0;34m()\u001b[0m\n\u001b[0;32m----> 1\u001b[0;31m \u001b[0mlista\u001b[0m\u001b[0;34m.\u001b[0m\u001b[0mindex\u001b[0m\u001b[0;34m(\u001b[0m\u001b[0;36m0\u001b[0m\u001b[0;34m)\u001b[0m\u001b[0;34m\u001b[0m\u001b[0;34m\u001b[0m\u001b[0m\n\u001b[0m\u001b[1;32m      2\u001b[0m \u001b[0;31m#o elemento não existe na lista, por isso dá erro.\u001b[0m\u001b[0;34m\u001b[0m\u001b[0;34m\u001b[0m\u001b[0;34m\u001b[0m\u001b[0m\n",
            "\u001b[0;31mValueError\u001b[0m: 0 is not in list"
          ]
        }
      ]
    },
    {
      "metadata": {
        "id": "afDmvST9TLnF",
        "colab_type": "code",
        "colab": {
          "base_uri": "https://localhost:8080/",
          "height": 34
        },
        "outputId": "3c332f88-da5a-4a48-ffef-432297e8e74d"
      },
      "cell_type": "code",
      "source": [
        "v = 10\n",
        "try:\n",
        "  lista.index(v)\n",
        "except (ValueError):\n",
        "  print (\"O valor procurado não está na lista\")\n",
        "  \n",
        "print (\"Olá\")\n",
        "#tentar achar o indice do valor v, que no caso é 10, que esta na lista."
      ],
      "execution_count": 17,
      "outputs": [
        {
          "output_type": "stream",
          "text": [
            "Olá\n"
          ],
          "name": "stdout"
        }
      ]
    },
    {
      "metadata": {
        "id": "HJ1sw0joUhcP",
        "colab_type": "code",
        "colab": {}
      },
      "cell_type": "code",
      "source": [
        "v = 0\n",
        "try:\n",
        "  lista.index(v)\n",
        "except (ValueError):\n",
        "  print (\"O valor procurado não está na lista\")\n",
        "  \n",
        "print (\"Olá\")\n",
        "#tentar achar o indice do valor v, que no caso é 0, que não está."
      ],
      "execution_count": 0,
      "outputs": []
    },
    {
      "metadata": {
        "id": "mvlgVpW2Va0S",
        "colab_type": "code",
        "colab": {
          "base_uri": "https://localhost:8080/",
          "height": 34
        },
        "outputId": "d2038757-0774-4774-82ea-58be865b728d"
      },
      "cell_type": "code",
      "source": [
        "#dicionários são tipos de dados que realizam associações\n",
        "\n",
        "dicionario = {\"Aluno 1\": 8.0, \"Aluno 2\": 5.0}\n",
        "dicionario"
      ],
      "execution_count": 19,
      "outputs": [
        {
          "output_type": "execute_result",
          "data": {
            "text/plain": [
              "{'Aluno 1': 8.0, 'Aluno 2': 5.0}"
            ]
          },
          "metadata": {
            "tags": []
          },
          "execution_count": 19
        }
      ]
    },
    {
      "metadata": {
        "id": "nRXm5oTiXnqQ",
        "colab_type": "code",
        "colab": {
          "base_uri": "https://localhost:8080/",
          "height": 34
        },
        "outputId": "3341e170-834c-404c-e0b7-12cdd260880c"
      },
      "cell_type": "code",
      "source": [
        "dicionario = {\"Aluno 1\": [8.0, 6.0], \"Aluno 2\": 5.0}\n",
        "dicionario"
      ],
      "execution_count": 20,
      "outputs": [
        {
          "output_type": "execute_result",
          "data": {
            "text/plain": [
              "{'Aluno 1': [8.0, 6.0], 'Aluno 2': 5.0}"
            ]
          },
          "metadata": {
            "tags": []
          },
          "execution_count": 20
        }
      ]
    },
    {
      "metadata": {
        "id": "HrAEGyxLX2sH",
        "colab_type": "code",
        "colab": {
          "base_uri": "https://localhost:8080/",
          "height": 34
        },
        "outputId": "a97c3cab-69fd-49c2-915b-f1b4168d6586"
      },
      "cell_type": "code",
      "source": [
        "dicionario = {\"Aluno 1\": {\"Cálculo 1\": 8.0}, \"Aluno 2\": {\"Álgebra 1\": 5.0}}\n",
        "dicionario"
      ],
      "execution_count": 21,
      "outputs": [
        {
          "output_type": "execute_result",
          "data": {
            "text/plain": [
              "{'Aluno 1': {'Cálculo 1': 8.0}, 'Aluno 2': {'Álgebra 1': 5.0}}"
            ]
          },
          "metadata": {
            "tags": []
          },
          "execution_count": 21
        }
      ]
    },
    {
      "metadata": {
        "id": "I4naAIzdYayH",
        "colab_type": "code",
        "colab": {
          "base_uri": "https://localhost:8080/",
          "height": 34
        },
        "outputId": "5e5a56ad-ee9f-407c-8bf8-b4cb311dc8e4"
      },
      "cell_type": "code",
      "source": [
        "dicionario[\"Aluno 2\"]"
      ],
      "execution_count": 22,
      "outputs": [
        {
          "output_type": "execute_result",
          "data": {
            "text/plain": [
              "{'Álgebra 1': 5.0}"
            ]
          },
          "metadata": {
            "tags": []
          },
          "execution_count": 22
        }
      ]
    },
    {
      "metadata": {
        "id": "W4a5d7khYeiO",
        "colab_type": "code",
        "colab": {
          "base_uri": "https://localhost:8080/",
          "height": 34
        },
        "outputId": "9d48d7dc-2fa1-4215-a8cf-0d3261328046"
      },
      "cell_type": "code",
      "source": [
        "boletim = {\n",
        "    \"João\": 2.0,\n",
        "    \"Ana\" : 3.0,\n",
        "    \"Carlos\": 4.0,\n",
        "}\n",
        "\n",
        "try:\n",
        "  print (boletim [\"João\"])\n",
        "except KeyError:\n",
        "  print (\"Aluno não encontrado\")\n",
        "  \n",
        "#buscando dentro e achando"
      ],
      "execution_count": 24,
      "outputs": [
        {
          "output_type": "stream",
          "text": [
            "2.0\n"
          ],
          "name": "stdout"
        }
      ]
    },
    {
      "metadata": {
        "id": "Yv8jNdo0aEEg",
        "colab_type": "code",
        "colab": {
          "base_uri": "https://localhost:8080/",
          "height": 51
        },
        "outputId": "cf95a10a-6935-4e0d-fdc3-c8b6cb3fd0cf"
      },
      "cell_type": "code",
      "source": [
        "boletim = {\n",
        "    \"João\": 2.0,\n",
        "    \"Ana\" : 3.0,\n",
        "    \"Carlos\": 4.0,\n",
        "}\n",
        "\n",
        "try:\n",
        "  print (boletim [\"Joã\"])\n",
        "except KeyError:\n",
        "  print (\"Aluno não encontrado\")\n",
        "  \n",
        "type(dicionario)\n",
        "  \n",
        "#buscando dentro e não achando"
      ],
      "execution_count": 28,
      "outputs": [
        {
          "output_type": "stream",
          "text": [
            "Aluno não encontrado\n"
          ],
          "name": "stdout"
        },
        {
          "output_type": "execute_result",
          "data": {
            "text/plain": [
              "dict"
            ]
          },
          "metadata": {
            "tags": []
          },
          "execution_count": 28
        }
      ]
    },
    {
      "metadata": {
        "id": "MbLy9RSzaPBk",
        "colab_type": "code",
        "colab": {
          "base_uri": "https://localhost:8080/",
          "height": 34
        },
        "outputId": "56cf9ade-accd-4c4f-81d0-b9c4edcfbc48"
      },
      "cell_type": "code",
      "source": [
        "tupla = (1,2)\n",
        "tupla\n",
        "#elementos fixos ex. nomes e sobrenomes para notas, serve como chave de dicionario\n",
        "\n",
        "type(tupla)"
      ],
      "execution_count": 29,
      "outputs": [
        {
          "output_type": "execute_result",
          "data": {
            "text/plain": [
              "tuple"
            ]
          },
          "metadata": {
            "tags": []
          },
          "execution_count": 29
        }
      ]
    },
    {
      "metadata": {
        "id": "jUP0npf3arps",
        "colab_type": "code",
        "colab": {
          "base_uri": "https://localhost:8080/",
          "height": 34
        },
        "outputId": "14b6663a-bf6b-4e7f-f9e5-a305265e0d00"
      },
      "cell_type": "code",
      "source": [
        "#conjunto matematico : não tem ordem e não tem repetições\n",
        "\n",
        "conjunto ={1,4,3, 4}\n",
        "conjunto"
      ],
      "execution_count": 33,
      "outputs": [
        {
          "output_type": "execute_result",
          "data": {
            "text/plain": [
              "{1, 3, 4}"
            ]
          },
          "metadata": {
            "tags": []
          },
          "execution_count": 33
        }
      ]
    },
    {
      "metadata": {
        "id": "bNr7jNc1bLAH",
        "colab_type": "code",
        "colab": {
          "base_uri": "https://localhost:8080/",
          "height": 34
        },
        "outputId": "75b91bd5-2cbc-4799-832c-19f31f878654"
      },
      "cell_type": "code",
      "source": [
        "lista.append(3)\n",
        "lista.append(1)\n",
        "lista\n",
        "\n",
        "#lista do inicio"
      ],
      "execution_count": 34,
      "outputs": [
        {
          "output_type": "execute_result",
          "data": {
            "text/plain": [
              "[2, 3, 10, 20, 3, 1]"
            ]
          },
          "metadata": {
            "tags": []
          },
          "execution_count": 34
        }
      ]
    },
    {
      "metadata": {
        "id": "HhMXY_D8b1vB",
        "colab_type": "code",
        "colab": {
          "base_uri": "https://localhost:8080/",
          "height": 34
        },
        "outputId": "a69f9c95-c010-493e-b51b-a718d435364c"
      },
      "cell_type": "code",
      "source": [
        "conjunto = set(lista)\n",
        "conjunto"
      ],
      "execution_count": 36,
      "outputs": [
        {
          "output_type": "execute_result",
          "data": {
            "text/plain": [
              "{1, 2, 3, 10, 20}"
            ]
          },
          "metadata": {
            "tags": []
          },
          "execution_count": 36
        }
      ]
    },
    {
      "metadata": {
        "id": "HmUTzLpob-8_",
        "colab_type": "code",
        "colab": {
          "base_uri": "https://localhost:8080/",
          "height": 34
        },
        "outputId": "6ec3cf94-2451-466a-c47e-4d77421a02c0"
      },
      "cell_type": "code",
      "source": [
        "2 in conjunto"
      ],
      "execution_count": 37,
      "outputs": [
        {
          "output_type": "execute_result",
          "data": {
            "text/plain": [
              "True"
            ]
          },
          "metadata": {
            "tags": []
          },
          "execution_count": 37
        }
      ]
    },
    {
      "metadata": {
        "id": "zKYnZU9rcnA8",
        "colab_type": "code",
        "colab": {}
      },
      "cell_type": "code",
      "source": [
        ""
      ],
      "execution_count": 0,
      "outputs": []
    }
  ]
}